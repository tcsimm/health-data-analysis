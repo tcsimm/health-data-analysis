{
 "cells": [
  {
   "cell_type": "code",
   "execution_count": 2,
   "id": "25bc1f7c",
   "metadata": {},
   "outputs": [],
   "source": [
    "# Imports\n",
    "import pandas as pd\n",
    "\n",
    "# Load dataset\n",
    "health = pd.read_csv(\"/Users/thomassimmons/c/Health/data/health.csv\")"
   ]
  },
  {
   "cell_type": "code",
   "execution_count": 3,
   "id": "830bf347",
   "metadata": {},
   "outputs": [
    {
     "data": {
      "text/html": [
       "<div>\n",
       "<style scoped>\n",
       "    .dataframe tbody tr th:only-of-type {\n",
       "        vertical-align: middle;\n",
       "    }\n",
       "\n",
       "    .dataframe tbody tr th {\n",
       "        vertical-align: top;\n",
       "    }\n",
       "\n",
       "    .dataframe thead th {\n",
       "        text-align: right;\n",
       "    }\n",
       "</style>\n",
       "<table border=\"1\" class=\"dataframe\">\n",
       "  <thead>\n",
       "    <tr style=\"text-align: right;\">\n",
       "      <th></th>\n",
       "      <th>Outcome (or Indicator)</th>\n",
       "      <th>Grouping category</th>\n",
       "      <th>Group</th>\n",
       "      <th>Percentage</th>\n",
       "      <th>Confidence Interval</th>\n",
       "      <th>Title</th>\n",
       "      <th>Description</th>\n",
       "      <th>Year</th>\n",
       "    </tr>\n",
       "  </thead>\n",
       "  <tbody>\n",
       "    <tr>\n",
       "      <th>0</th>\n",
       "      <td>Coronary heart disease</td>\n",
       "      <td>Total</td>\n",
       "      <td>Total</td>\n",
       "      <td>4.6</td>\n",
       "      <td>4.3, 4.9</td>\n",
       "      <td>Percentage of coronary heart disease for adult...</td>\n",
       "      <td>Respondents were asked if they had ever been t...</td>\n",
       "      <td>2019</td>\n",
       "    </tr>\n",
       "    <tr>\n",
       "      <th>1</th>\n",
       "      <td>Coronary heart disease</td>\n",
       "      <td>Sex</td>\n",
       "      <td>Male</td>\n",
       "      <td>5.9</td>\n",
       "      <td>5.5, 6.3</td>\n",
       "      <td>Percentage of coronary heart disease for adult...</td>\n",
       "      <td>Respondents were asked if they had ever been t...</td>\n",
       "      <td>2019</td>\n",
       "    </tr>\n",
       "    <tr>\n",
       "      <th>2</th>\n",
       "      <td>Coronary heart disease</td>\n",
       "      <td>Sex</td>\n",
       "      <td>Female</td>\n",
       "      <td>3.4</td>\n",
       "      <td>3.1, 3.7</td>\n",
       "      <td>Percentage of coronary heart disease for adult...</td>\n",
       "      <td>Respondents were asked if they had ever been t...</td>\n",
       "      <td>2019</td>\n",
       "    </tr>\n",
       "    <tr>\n",
       "      <th>3</th>\n",
       "      <td>Coronary heart disease</td>\n",
       "      <td>Age groups with 65+</td>\n",
       "      <td>18-34 years</td>\n",
       "      <td>0.3</td>\n",
       "      <td>0.2, 0.5</td>\n",
       "      <td>Percentage of coronary heart disease for adult...</td>\n",
       "      <td>Respondents were asked if they had ever been t...</td>\n",
       "      <td>2019</td>\n",
       "    </tr>\n",
       "    <tr>\n",
       "      <th>4</th>\n",
       "      <td>Coronary heart disease</td>\n",
       "      <td>Age groups with 65+</td>\n",
       "      <td>35-49 years</td>\n",
       "      <td>0.9</td>\n",
       "      <td>0.6, 1.2</td>\n",
       "      <td>Percentage of coronary heart disease for adult...</td>\n",
       "      <td>Respondents were asked if they had ever been t...</td>\n",
       "      <td>2019</td>\n",
       "    </tr>\n",
       "    <tr>\n",
       "      <th>5</th>\n",
       "      <td>Coronary heart disease</td>\n",
       "      <td>Age groups with 65+</td>\n",
       "      <td>50-64 years</td>\n",
       "      <td>5.4</td>\n",
       "      <td>4.9, 6.0</td>\n",
       "      <td>Percentage of coronary heart disease for adult...</td>\n",
       "      <td>Respondents were asked if they had ever been t...</td>\n",
       "      <td>2019</td>\n",
       "    </tr>\n",
       "    <tr>\n",
       "      <th>6</th>\n",
       "      <td>Coronary heart disease</td>\n",
       "      <td>Age groups with 65+</td>\n",
       "      <td>65 years and over</td>\n",
       "      <td>14.0</td>\n",
       "      <td>13.2, 14.9</td>\n",
       "      <td>Percentage of coronary heart disease for adult...</td>\n",
       "      <td>Respondents were asked if they had ever been t...</td>\n",
       "      <td>2019</td>\n",
       "    </tr>\n",
       "    <tr>\n",
       "      <th>7</th>\n",
       "      <td>Coronary heart disease</td>\n",
       "      <td>Age groups with 75+</td>\n",
       "      <td>18-44 years</td>\n",
       "      <td>0.5</td>\n",
       "      <td>0.3, 0.6</td>\n",
       "      <td>Percentage of coronary heart disease for adult...</td>\n",
       "      <td>Respondents were asked if they had ever been t...</td>\n",
       "      <td>2019</td>\n",
       "    </tr>\n",
       "    <tr>\n",
       "      <th>8</th>\n",
       "      <td>Coronary heart disease</td>\n",
       "      <td>Age groups with 75+</td>\n",
       "      <td>45-64 years</td>\n",
       "      <td>4.4</td>\n",
       "      <td>4.0, 4.9</td>\n",
       "      <td>Percentage of coronary heart disease for adult...</td>\n",
       "      <td>Respondents were asked if they had ever been t...</td>\n",
       "      <td>2019</td>\n",
       "    </tr>\n",
       "    <tr>\n",
       "      <th>9</th>\n",
       "      <td>Coronary heart disease</td>\n",
       "      <td>Age groups with 75+</td>\n",
       "      <td>65-74 years</td>\n",
       "      <td>10.5</td>\n",
       "      <td>9.5, 11.5</td>\n",
       "      <td>Percentage of coronary heart disease for adult...</td>\n",
       "      <td>Respondents were asked if they had ever been t...</td>\n",
       "      <td>2019</td>\n",
       "    </tr>\n",
       "  </tbody>\n",
       "</table>\n",
       "</div>"
      ],
      "text/plain": [
       "   Outcome (or Indicator)    Grouping category              Group  Percentage  \\\n",
       "0  Coronary heart disease                Total              Total         4.6   \n",
       "1  Coronary heart disease                  Sex               Male         5.9   \n",
       "2  Coronary heart disease                  Sex             Female         3.4   \n",
       "3  Coronary heart disease  Age groups with 65+        18-34 years         0.3   \n",
       "4  Coronary heart disease  Age groups with 65+        35-49 years         0.9   \n",
       "5  Coronary heart disease  Age groups with 65+        50-64 years         5.4   \n",
       "6  Coronary heart disease  Age groups with 65+  65 years and over        14.0   \n",
       "7  Coronary heart disease  Age groups with 75+        18-44 years         0.5   \n",
       "8  Coronary heart disease  Age groups with 75+        45-64 years         4.4   \n",
       "9  Coronary heart disease  Age groups with 75+        65-74 years        10.5   \n",
       "\n",
       "  Confidence Interval                                              Title  \\\n",
       "0            4.3, 4.9  Percentage of coronary heart disease for adult...   \n",
       "1            5.5, 6.3  Percentage of coronary heart disease for adult...   \n",
       "2            3.1, 3.7  Percentage of coronary heart disease for adult...   \n",
       "3            0.2, 0.5  Percentage of coronary heart disease for adult...   \n",
       "4            0.6, 1.2  Percentage of coronary heart disease for adult...   \n",
       "5            4.9, 6.0  Percentage of coronary heart disease for adult...   \n",
       "6          13.2, 14.9  Percentage of coronary heart disease for adult...   \n",
       "7            0.3, 0.6  Percentage of coronary heart disease for adult...   \n",
       "8            4.0, 4.9  Percentage of coronary heart disease for adult...   \n",
       "9           9.5, 11.5  Percentage of coronary heart disease for adult...   \n",
       "\n",
       "                                         Description  Year  \n",
       "0  Respondents were asked if they had ever been t...  2019  \n",
       "1  Respondents were asked if they had ever been t...  2019  \n",
       "2  Respondents were asked if they had ever been t...  2019  \n",
       "3  Respondents were asked if they had ever been t...  2019  \n",
       "4  Respondents were asked if they had ever been t...  2019  \n",
       "5  Respondents were asked if they had ever been t...  2019  \n",
       "6  Respondents were asked if they had ever been t...  2019  \n",
       "7  Respondents were asked if they had ever been t...  2019  \n",
       "8  Respondents were asked if they had ever been t...  2019  \n",
       "9  Respondents were asked if they had ever been t...  2019  "
      ]
     },
     "execution_count": 3,
     "metadata": {},
     "output_type": "execute_result"
    }
   ],
   "source": [
    "health.head(10)"
   ]
  },
  {
   "cell_type": "code",
   "execution_count": null,
   "id": "0fa3a1e9",
   "metadata": {},
   "outputs": [
    {
     "data": {
      "text/plain": [
       "outcome_(or_indicator)    0\n",
       "grouping_category         0\n",
       "group                     0\n",
       "percentage                0\n",
       "confidence_interval       0\n",
       "title                     0\n",
       "description               0\n",
       "year                      0\n",
       "dtype: int64"
      ]
     },
     "execution_count": 8,
     "metadata": {},
     "output_type": "execute_result"
    }
   ],
   "source": [
    "# Check initial nulls\n",
    "health.isnull().sum()"
   ]
  },
  {
   "cell_type": "code",
   "execution_count": 5,
   "id": "79166f9f",
   "metadata": {},
   "outputs": [],
   "source": [
    "# Handle missing values in Description by filling with a placeholder\n",
    "health['Description'] = health['Description'].fillna(\"No description given\")"
   ]
  },
  {
   "cell_type": "code",
   "execution_count": 6,
   "id": "9925f92d",
   "metadata": {},
   "outputs": [],
   "source": [
    "# Standardize column names\n",
    "health.columns = health.columns.str.strip().str.lower().str.replace(\" \", \"_\")"
   ]
  },
  {
   "cell_type": "code",
   "execution_count": 13,
   "id": "8d9963d4",
   "metadata": {},
   "outputs": [],
   "source": [
    "# Drop Confidence Interval column\n",
    "health = health.dropna(subset = ['confidence_interval'])"
   ]
  },
  {
   "cell_type": "code",
   "execution_count": 22,
   "id": "3023fbf7",
   "metadata": {},
   "outputs": [],
   "source": [
    "# Drop duplicates if any\n",
    "health = health.drop_duplicates()"
   ]
  },
  {
   "cell_type": "code",
   "execution_count": 25,
   "id": "6b1f5858",
   "metadata": {},
   "outputs": [],
   "source": [
    "# Split Confidence Interval into lower and upper bound\n",
    "ci_split = health[\"confidence_interval\"].str.split(\",\", expand=True)\n",
    "health[\"ci_lower\"] = pd.to_numeric(ci_split[0].str.strip(), errors=\"coerce\")\n",
    "health[\"ci_upper\"] = pd.to_numeric(ci_split[1].str.strip(), errors=\"coerce\")"
   ]
  },
  {
   "cell_type": "code",
   "execution_count": 24,
   "id": "26fd3213",
   "metadata": {},
   "outputs": [
    {
     "name": "stdout",
     "output_type": "stream",
     "text": [
      "Data saved and cleaned.\n"
     ]
    }
   ],
   "source": [
    "# Save cleaned data as new file\n",
    "health.to_csv(\"/Users/thomassimmons/c/Health/data/cleaned_health.csv\", index=False)\n",
    "print(\"Data saved and cleaned.\")"
   ]
  }
 ],
 "metadata": {
  "kernelspec": {
   "display_name": "base",
   "language": "python",
   "name": "python3"
  },
  "language_info": {
   "codemirror_mode": {
    "name": "ipython",
    "version": 3
   },
   "file_extension": ".py",
   "mimetype": "text/x-python",
   "name": "python",
   "nbconvert_exporter": "python",
   "pygments_lexer": "ipython3",
   "version": "3.12.4"
  }
 },
 "nbformat": 4,
 "nbformat_minor": 5
}
