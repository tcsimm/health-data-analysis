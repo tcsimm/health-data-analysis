{
 "cells": [
  {
   "cell_type": "code",
   "execution_count": 2,
   "id": "c1f38b59",
   "metadata": {},
   "outputs": [],
   "source": [
    "# Imports\n",
    "import pandas as pd\n",
    "\n",
    "df = pd.read_csv(\"/Users/thomassimmons/c/Health/data/cleaned_health.csv\")"
   ]
  },
  {
   "cell_type": "code",
   "execution_count": 6,
   "id": "c45a19c4",
   "metadata": {},
   "outputs": [
    {
     "data": {
      "text/plain": [
       "('Dataset shape:', (23633, 10))"
      ]
     },
     "execution_count": 6,
     "metadata": {},
     "output_type": "execute_result"
    }
   ],
   "source": [
    "# Shape\n",
    "(\"Dataset shape:\", df.shape)"
   ]
  },
  {
   "cell_type": "code",
   "execution_count": 7,
   "id": "a234003e",
   "metadata": {},
   "outputs": [
    {
     "data": {
      "text/plain": [
       "('Column data types:\\n',\n",
       " outcome_(or_indicator)     object\n",
       " grouping_category          object\n",
       " group                      object\n",
       " percentage                float64\n",
       " confidence_interval        object\n",
       " title                      object\n",
       " description                object\n",
       " year                        int64\n",
       " ci_lower                  float64\n",
       " ci_upper                  float64\n",
       " dtype: object)"
      ]
     },
     "execution_count": 7,
     "metadata": {},
     "output_type": "execute_result"
    }
   ],
   "source": [
    "# Data types\n",
    "(\"Column data types:\\n\", df.dtypes)"
   ]
  },
  {
   "cell_type": "code",
   "execution_count": 10,
   "id": "7d27b0df",
   "metadata": {},
   "outputs": [
    {
     "name": "stdout",
     "output_type": "stream",
     "text": [
      "Null values:\n",
      " outcome_(or_indicator)    0\n",
      "grouping_category         0\n",
      "group                     0\n",
      "percentage                0\n",
      "confidence_interval       0\n",
      "title                     0\n",
      "description               0\n",
      "year                      0\n",
      "ci_lower                  0\n",
      "ci_upper                  0\n",
      "dtype: int64\n"
     ]
    }
   ],
   "source": [
    "print(\"Null values:\\n\", df.isnull().sum())"
   ]
  },
  {
   "cell_type": "code",
   "execution_count": 12,
   "id": "139d8088",
   "metadata": {},
   "outputs": [
    {
     "name": "stdout",
     "output_type": "stream",
     "text": [
      "Statistical summary:\n",
      "          percentage          year      ci_lower      ci_upper\n",
      "count  23633.000000  23633.000000  23633.000000  23633.000000\n",
      "mean      22.074988   2021.490966     20.667863     23.601011\n",
      "std       23.954390      1.710346     23.556541     24.360457\n",
      "min        0.000000   2019.000000      0.000000      0.000000\n",
      "25%        5.800000   2020.000000      5.000000      6.700000\n",
      "50%       12.800000   2021.000000     11.400000     14.300000\n",
      "75%       26.900000   2023.000000     24.900000     29.500000\n",
      "max      100.000000   2024.000000    100.000000    100.000000\n"
     ]
    }
   ],
   "source": [
    "# Summary of numeric columns\n",
    "print(\"Statistical summary:\\n\", df.describe())"
   ]
  },
  {
   "cell_type": "code",
   "execution_count": 14,
   "id": "c3bebe46",
   "metadata": {},
   "outputs": [
    {
     "name": "stdout",
     "output_type": "stream",
     "text": [
      "\n",
      "Most common values:\n",
      "\n",
      "outcome_(or_indicator):\n",
      " outcome_(or_indicator)\n",
      "Doctor visit                                                464\n",
      "Prescription medication use                                 464\n",
      "Wellness visit                                              463\n",
      "Has a usual place of care                                   463\n",
      "Receipt of influenza vaccination                            462\n",
      "Diagnosed hypertension                                      462\n",
      "Ever received a pneumococcal vaccination                    462\n",
      "Obesity                                                     462\n",
      "Hospital emergency department visit                         461\n",
      "Regularly had feelings of worry, nervousness, or anxiety    459\n",
      "Name: count, dtype: int64\n",
      "\n",
      "grouping_category:\n",
      " grouping_category\n",
      "Hispanic or Latino origin and race        1908\n",
      "Employment status                         1896\n",
      "Race                                      1834\n",
      "Marital status                            1590\n",
      "Health insurance coverage: 65 and over    1412\n",
      "Education                                 1272\n",
      "Urbanicity                                1272\n",
      "Region                                    1272\n",
      "Social vulnerability                      1272\n",
      "Age groups with 65+                       1230\n",
      "Name: count, dtype: int64\n",
      "\n",
      "group:\n",
      " group\n",
      "Private                                             588\n",
      "Other government coverage                           572\n",
      "Total                                               318\n",
      "Not currently employed but has worked previously    318\n",
      "Large fringe metro                                  318\n",
      "Medium and small metro                              318\n",
      "Nonmetropolitan                                     318\n",
      "Northeast                                           318\n",
      "Midwest                                             318\n",
      "South                                               318\n",
      "Name: count, dtype: int64\n"
     ]
    }
   ],
   "source": [
    "# Summary of categorical variables\n",
    "print(\"\\nMost common values:\")\n",
    "for col in ['outcome_(or_indicator)', 'grouping_category', 'group']:\n",
    "    print(f\"\\n{col}:\\n\", df[col].value_counts().head(10))"
   ]
  },
  {
   "cell_type": "code",
   "execution_count": 17,
   "id": "fc34c9bf",
   "metadata": {},
   "outputs": [
    {
     "name": "stdout",
     "output_type": "stream",
     "text": [
      "\n",
      "Unique values per column:\n",
      "outcome_(or_indicator): 56\n",
      "grouping_category: 22\n",
      "group: 78\n",
      "percentage: 981\n",
      "confidence_interval: 12560\n",
      "title: 56\n",
      "description: 54\n",
      "year: 6\n",
      "ci_lower: 974\n",
      "ci_upper: 988\n"
     ]
    }
   ],
   "source": [
    "# Unique values per column\n",
    "print(\"\\nUnique values per column:\")\n",
    "for col in df.columns:\n",
    "    print(f\"{col}: {df[col].nunique()}\")"
   ]
  }
 ],
 "metadata": {
  "kernelspec": {
   "display_name": "base",
   "language": "python",
   "name": "python3"
  },
  "language_info": {
   "codemirror_mode": {
    "name": "ipython",
    "version": 3
   },
   "file_extension": ".py",
   "mimetype": "text/x-python",
   "name": "python",
   "nbconvert_exporter": "python",
   "pygments_lexer": "ipython3",
   "version": "3.12.4"
  }
 },
 "nbformat": 4,
 "nbformat_minor": 5
}
